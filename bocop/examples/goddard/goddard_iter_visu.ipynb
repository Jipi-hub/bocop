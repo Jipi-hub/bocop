{
 "cells": [
  {
   "cell_type": "markdown",
   "metadata": {},
   "source": [
    "# A simple Goddard problem\n",
    "\n",
    "<img src=\"goddard.jpg\" width=417 height=512>\n",
    "\n",
    "[Thumbnail](goddard.jpg)\n",
    "\n",
    "This well-known problem (see for instance [1],[2]) models the ascent of a rocket through the atmosphere, and we restrict here ourselves to  vertical (monodimensional) trajectories.\n",
    "The state variables are the altitude, speed and mass of the rocket during the flight, for a total dimension of 3. The rocket is subject to gravity, thrust and drag forces. The final time is free, and the objective is to reach a certain altitude with a minimal fuel consumption, ie a maximal final mass. All units are renormalized.\n",
    "\n",
    "$$\n",
    "\\left \\lbrace\n",
    "\\begin{array}{l}\n",
    "Max\\ m(T)\\\\\n",
    "\\dot r = v\\\\\n",
    "\\dot v = -\\frac{1}{r^2} + \\frac{1}{m} (T_{max} u - D(r,v))\\\\\n",
    "\\dot m = - b u\\\\\n",
    "u(\\cdot) \\in [0,1]\\\\\n",
    "r(0)=1,\\ v(0)=0,\\ m(0)=1\\\\\n",
    "r(1) = 1.01\\\\\n",
    "D(r(\\cdot),v(\\cdot)) \\le C\\\\\n",
    "T\\ is\\ free\n",
    "\\end{array}\n",
    "\\right .\n",
    "$$\n",
    "\n",
    "The drag term is a function of speed and altitude defined as \n",
    "$D(r,v)=Av^2\\rho(r)$,\n",
    "with the volumic mass given by the approximate model \n",
    "$\\rho(r)=e^{-k(r-r_0)}$.\n",
    "\n",
    "In the following we use the parameters \n",
    "$b=7,\\ T_{max}=3.5,\\ A=310,\\ k=500,\\ r_0=1$.\n",
    "\n",
    "The Hamiltonian is an affine function of the control, so singular arcs may occur. We consider here a path constraint limiting the value of the drag effect: $D(r,v)\\le C$. We can observe that depending on the value of C, the control structure changes. In the unconstrained case, the optimal trajectory presents a singular arc with a non-maximal thrust. When C is set under the maximal value attained by the drag in the unconstrained case, a constrained arc appears. If C is small enough, the singular arc is completely replaced by the constrained arc."
   ]
  },
  {
   "cell_type": "code",
   "execution_count": 1,
   "metadata": {},
   "outputs": [
    {
     "name": "stdout",
     "output_type": "stream",
     "text": [
      "\u001b[37m// +++DRAFT+++ This class implements the OCP functions\u001b[39;49;00m\r\n",
      "\u001b[37m// It derives from the generic class bocop3OCPBase\u001b[39;49;00m\r\n",
      "\u001b[37m// OCP functions are defined with templates since they will be called\u001b[39;49;00m\r\n",
      "\u001b[37m// from both the NLP solver (double arguments) and AD tool (ad_double arguments)\u001b[39;49;00m\r\n",
      "\u001b[37m//#pragma once\u001b[39;49;00m\r\n",
      "\r\n",
      "\u001b[36m#\u001b[39;49;00m\u001b[36minclude\u001b[39;49;00m \u001b[37m<OCP.h>\u001b[39;49;00m\u001b[36m\u001b[39;49;00m\r\n",
      "\u001b[37m// ///////////////////////////////////////////////////////////////////\u001b[39;49;00m\r\n",
      "\r\n",
      "\r\n",
      "\u001b[37m// aux functions\u001b[39;49;00m\r\n",
      "\r\n",
      "\u001b[37m// FUNCTION FOR GODDARD DRAG\u001b[39;49;00m\r\n",
      "\u001b[37m// drag = 310 v^2 exp (-500(r-1))\u001b[39;49;00m\r\n",
      "\u001b[37m// Arguments:\u001b[39;49;00m\r\n",
      "\u001b[37m// r: radius\u001b[39;49;00m\r\n",
      "\u001b[37m// v: velocity\u001b[39;49;00m\r\n",
      "\u001b[34mtemplate\u001b[39;49;00m <\u001b[34mtypename\u001b[39;49;00m \u001b[04m\u001b[32mVariable\u001b[39;49;00m>\r\n",
      "\u001b[34minline\u001b[39;49;00m Variable drag(\u001b[34mconst\u001b[39;49;00m Variable r, \u001b[34mconst\u001b[39;49;00m Variable v, \u001b[36mdouble\u001b[39;49;00m A, \u001b[36mdouble\u001b[39;49;00m k, \u001b[36mdouble\u001b[39;49;00m r0)\r\n",
      "{\r\n",
      "  Variable drag = A * v * v * exp(-k*(fabs(r)-r0));\r\n",
      "  \u001b[34mreturn\u001b[39;49;00m drag;\r\n",
      "}\r\n",
      "\r\n",
      "\u001b[37m// FUNCTION FOR GRAVITY\u001b[39;49;00m\r\n",
      "\u001b[37m// g = 1 / r^2\u001b[39;49;00m\r\n",
      "\u001b[37m// Arguments:\u001b[39;49;00m\r\n",
      "\u001b[37m// r: radius\u001b[39;49;00m\r\n",
      "\u001b[34mtemplate\u001b[39;49;00m <\u001b[34mtypename\u001b[39;49;00m \u001b[04m\u001b[32mVariable\u001b[39;49;00m>\r\n",
      "\u001b[34minline\u001b[39;49;00m Variable grav(\u001b[34mconst\u001b[39;49;00m Variable r)\r\n",
      "{\r\n",
      "  Variable grav = \u001b[34m1e0\u001b[39;49;00m / r / r;\r\n",
      "  \u001b[34mreturn\u001b[39;49;00m grav;\r\n",
      "}\r\n",
      "\r\n",
      "\u001b[37m// FUNCTION FOR THRUST (GODDARD)\u001b[39;49;00m\r\n",
      "\u001b[37m// Variable = u * Tmax\u001b[39;49;00m\r\n",
      "\u001b[37m// Arguments:\u001b[39;49;00m\r\n",
      "\u001b[37m// r: radius\u001b[39;49;00m\r\n",
      "\u001b[34mtemplate\u001b[39;49;00m <\u001b[34mtypename\u001b[39;49;00m \u001b[04m\u001b[32mVariable\u001b[39;49;00m>\r\n",
      "\u001b[34minline\u001b[39;49;00m Variable thrust(\u001b[34mconst\u001b[39;49;00m Variable u, \u001b[36mdouble\u001b[39;49;00m Tmax)\r\n",
      "{\r\n",
      "  Variable thrust = u * Tmax;\r\n",
      "  \u001b[34mreturn\u001b[39;49;00m thrust;\r\n",
      "}\r\n",
      "\r\n",
      "\r\n",
      "\r\n",
      "\u001b[37m// ///////////////////////////////////////////////////////////////////\u001b[39;49;00m\r\n",
      "\r\n",
      "\r\n",
      "\u001b[34mtemplate\u001b[39;49;00m <\u001b[34mtypename\u001b[39;49;00m \u001b[04m\u001b[32mVariable\u001b[39;49;00m>\r\n",
      "\u001b[36mvoid\u001b[39;49;00m OCP::finalCost(\u001b[36mdouble\u001b[39;49;00m initial_time, \u001b[36mdouble\u001b[39;49;00m final_time, \u001b[34mconst\u001b[39;49;00m Variable *initial_state, \u001b[34mconst\u001b[39;49;00m Variable *final_state, \u001b[34mconst\u001b[39;49;00m Variable *parameters, \u001b[34mconst\u001b[39;49;00m \u001b[36mdouble\u001b[39;49;00m *constants, Variable &final_cost)\r\n",
      "{\r\n",
      "  \u001b[37m// CRITERION FOR GODDARD PROBLEM\u001b[39;49;00m\r\n",
      "  \u001b[37m// MAXIMIZE FINAL MASS\u001b[39;49;00m\r\n",
      "  final_cost = -final_state[\u001b[34m2\u001b[39;49;00m];\r\n",
      "}\r\n",
      "\r\n",
      "\u001b[34mtemplate\u001b[39;49;00m <\u001b[34mtypename\u001b[39;49;00m \u001b[04m\u001b[32mVariable\u001b[39;49;00m>\r\n",
      "\u001b[36mvoid\u001b[39;49;00m OCP::dynamics(\u001b[36mdouble\u001b[39;49;00m time, \u001b[34mconst\u001b[39;49;00m Variable *state, \u001b[34mconst\u001b[39;49;00m Variable *control, \u001b[34mconst\u001b[39;49;00m Variable *parameters, \u001b[34mconst\u001b[39;49;00m \u001b[36mdouble\u001b[39;49;00m *constants, Variable *state_dynamics)\r\n",
      "{\r\n",
      "  \u001b[37m// DYNAMICS FOR GODDARD PROBLEM\u001b[39;49;00m\r\n",
      "  \u001b[37m// dr/dt = v\u001b[39;49;00m\r\n",
      "  \u001b[37m// dv/dt = (Thrust(u) - Drag(r,v)) / m - grav(r)\u001b[39;49;00m\r\n",
      "  \u001b[37m// dm/dt = -b*|u|\u001b[39;49;00m\r\n",
      "\r\n",
      "  \u001b[36mdouble\u001b[39;49;00m Tmax = constants[\u001b[34m0\u001b[39;49;00m];\r\n",
      "  \u001b[36mdouble\u001b[39;49;00m A = constants[\u001b[34m1\u001b[39;49;00m];\r\n",
      "  \u001b[36mdouble\u001b[39;49;00m k = constants[\u001b[34m2\u001b[39;49;00m];\r\n",
      "  \u001b[36mdouble\u001b[39;49;00m r0 = constants[\u001b[34m3\u001b[39;49;00m];\r\n",
      "  \u001b[36mdouble\u001b[39;49;00m b = constants[\u001b[34m4\u001b[39;49;00m];\r\n",
      "\r\n",
      "  Variable r = state[\u001b[34m0\u001b[39;49;00m];\r\n",
      "  Variable v = state[\u001b[34m1\u001b[39;49;00m];\r\n",
      "  Variable m = state[\u001b[34m2\u001b[39;49;00m];\r\n",
      "\r\n",
      "  state_dynamics[\u001b[34m0\u001b[39;49;00m] = v;\r\n",
      "  state_dynamics[\u001b[34m1\u001b[39;49;00m] = (thrust(control[\u001b[34m0\u001b[39;49;00m],Tmax) - drag(r,v,A,k,r0)) / m - grav(r);\r\n",
      "  state_dynamics[\u001b[34m2\u001b[39;49;00m] = - b * control[\u001b[34m0\u001b[39;49;00m];\r\n",
      "\r\n",
      "  \u001b[37m// free final time: rescale dynamics\u001b[39;49;00m\r\n",
      "  Variable tf = parameters[\u001b[34m0\u001b[39;49;00m];\r\n",
      "  \u001b[34mfor\u001b[39;49;00m (\u001b[36msize_t\u001b[39;49;00m i=\u001b[34m0\u001b[39;49;00m; i<\u001b[34m3\u001b[39;49;00m; i++)\r\n",
      "    state_dynamics[i] *= tf;\r\n",
      "}\r\n",
      "\r\n",
      "\u001b[34mtemplate\u001b[39;49;00m <\u001b[34mtypename\u001b[39;49;00m \u001b[04m\u001b[32mVariable\u001b[39;49;00m>\r\n",
      "\u001b[36mvoid\u001b[39;49;00m OCP::boundaryConditions(\u001b[36mdouble\u001b[39;49;00m initial_time, \u001b[36mdouble\u001b[39;49;00m final_time, \u001b[34mconst\u001b[39;49;00m Variable *initial_state, \u001b[34mconst\u001b[39;49;00m Variable *final_state, \u001b[34mconst\u001b[39;49;00m Variable *parameters, \u001b[34mconst\u001b[39;49;00m \u001b[36mdouble\u001b[39;49;00m *constants, Variable *boundary_conditions)\r\n",
      "{\r\n",
      "  \u001b[37m// INITIAL CONDITIONS FOR GODDARD PROBLEM\u001b[39;49;00m\r\n",
      "  \u001b[37m// r0 = 1    v0 = 0   m0 = 1\u001b[39;49;00m\r\n",
      "  \u001b[37m// MODELED AS 1 <= r0 <= 1, etc\u001b[39;49;00m\r\n",
      "  boundary_conditions[\u001b[34m0\u001b[39;49;00m] = initial_state[\u001b[34m0\u001b[39;49;00m];\r\n",
      "  boundary_conditions[\u001b[34m1\u001b[39;49;00m] = initial_state[\u001b[34m1\u001b[39;49;00m];\r\n",
      "  boundary_conditions[\u001b[34m2\u001b[39;49;00m] = initial_state[\u001b[34m2\u001b[39;49;00m];\r\n",
      "\r\n",
      "  \u001b[37m// FINAL CONDITIONS FOR GODDARD PROBLEM\u001b[39;49;00m\r\n",
      "    \u001b[37m// rf >= 1.01   MODELED AS   1.01 <= rf\u001b[39;49;00m\r\n",
      "  boundary_conditions[\u001b[34m3\u001b[39;49;00m] = final_state[\u001b[34m0\u001b[39;49;00m];\r\n",
      "}\r\n",
      "\r\n",
      "\u001b[34mtemplate\u001b[39;49;00m <\u001b[34mtypename\u001b[39;49;00m \u001b[04m\u001b[32mVariable\u001b[39;49;00m>\r\n",
      "\u001b[36mvoid\u001b[39;49;00m OCP::pathConstraints(\u001b[36mdouble\u001b[39;49;00m time, \u001b[34mconst\u001b[39;49;00m Variable *state, \u001b[34mconst\u001b[39;49;00m Variable *control, \u001b[34mconst\u001b[39;49;00m Variable *parameters, \u001b[34mconst\u001b[39;49;00m \u001b[36mdouble\u001b[39;49;00m *constants, Variable *path_constraints)\r\n",
      "{\r\n",
      "  \u001b[37m// CONSTRAINT ON MAX DRAG FOR GODDARD PROBLEM\u001b[39;49;00m\r\n",
      "  \u001b[37m// Drag <= C ie Drag - C <= 0\u001b[39;49;00m\r\n",
      "\r\n",
      "  \u001b[36mdouble\u001b[39;49;00m A = constants[\u001b[34m1\u001b[39;49;00m];\r\n",
      "  \u001b[36mdouble\u001b[39;49;00m k = constants[\u001b[34m2\u001b[39;49;00m];\r\n",
      "  \u001b[36mdouble\u001b[39;49;00m r0 = constants[\u001b[34m3\u001b[39;49;00m];\r\n",
      "  \u001b[36mdouble\u001b[39;49;00m C = constants[\u001b[34m5\u001b[39;49;00m];\r\n",
      "\r\n",
      "  Variable r = state[\u001b[34m0\u001b[39;49;00m];\r\n",
      "  Variable v = state[\u001b[34m1\u001b[39;49;00m];\r\n",
      "\r\n",
      "  path_constraints[\u001b[34m0\u001b[39;49;00m] = drag(r,v,A,k,r0) - C;\r\n",
      "}\r\n",
      "\r\n",
      "\u001b[36mvoid\u001b[39;49;00m OCP::preProcessing()\r\n",
      "{}\r\n",
      "\r\n",
      "\u001b[37m// ///////////////////////////////////////////////////////////////////\u001b[39;49;00m\r\n",
      "\u001b[37m// explicit template instanciation for template functions, with double and double_ad \u001b[39;49;00m\r\n",
      "\u001b[37m// +++ could be in an included separate file ? \u001b[39;49;00m\r\n",
      "\u001b[37m// but needs to be done for aux functions too ? APPARENTLY NOT !\u001b[39;49;00m\r\n",
      "\u001b[34mtemplate\u001b[39;49;00m \u001b[36mvoid\u001b[39;49;00m OCP::finalCost<\u001b[36mdouble\u001b[39;49;00m>(\u001b[36mdouble\u001b[39;49;00m initial_time, \u001b[36mdouble\u001b[39;49;00m final_time, \u001b[34mconst\u001b[39;49;00m \u001b[36mdouble\u001b[39;49;00m *initial_state, \u001b[34mconst\u001b[39;49;00m \u001b[36mdouble\u001b[39;49;00m *final_state, \u001b[34mconst\u001b[39;49;00m \u001b[36mdouble\u001b[39;49;00m *parameters, \u001b[34mconst\u001b[39;49;00m \u001b[36mdouble\u001b[39;49;00m *constants, \u001b[36mdouble\u001b[39;49;00m &final_cost);\r\n",
      "\u001b[34mtemplate\u001b[39;49;00m \u001b[36mvoid\u001b[39;49;00m OCP::dynamics<\u001b[36mdouble\u001b[39;49;00m>(\u001b[36mdouble\u001b[39;49;00m time, \u001b[34mconst\u001b[39;49;00m \u001b[36mdouble\u001b[39;49;00m *state, \u001b[34mconst\u001b[39;49;00m \u001b[36mdouble\u001b[39;49;00m *control, \u001b[34mconst\u001b[39;49;00m \u001b[36mdouble\u001b[39;49;00m *parameters, \u001b[34mconst\u001b[39;49;00m \u001b[36mdouble\u001b[39;49;00m *constants, \u001b[36mdouble\u001b[39;49;00m *state_dynamics);\r\n",
      "\u001b[34mtemplate\u001b[39;49;00m \u001b[36mvoid\u001b[39;49;00m OCP::boundaryConditions<\u001b[36mdouble\u001b[39;49;00m>(\u001b[36mdouble\u001b[39;49;00m initial_time, \u001b[36mdouble\u001b[39;49;00m final_time, \u001b[34mconst\u001b[39;49;00m \u001b[36mdouble\u001b[39;49;00m *initial_state, \u001b[34mconst\u001b[39;49;00m \u001b[36mdouble\u001b[39;49;00m *final_state, \u001b[34mconst\u001b[39;49;00m \u001b[36mdouble\u001b[39;49;00m *parameters, \u001b[34mconst\u001b[39;49;00m \u001b[36mdouble\u001b[39;49;00m *constants, \u001b[36mdouble\u001b[39;49;00m *boundary_conditions);\r\n",
      "\u001b[34mtemplate\u001b[39;49;00m \u001b[36mvoid\u001b[39;49;00m OCP::pathConstraints<\u001b[36mdouble\u001b[39;49;00m>(\u001b[36mdouble\u001b[39;49;00m time, \u001b[34mconst\u001b[39;49;00m \u001b[36mdouble\u001b[39;49;00m *state, \u001b[34mconst\u001b[39;49;00m \u001b[36mdouble\u001b[39;49;00m *control, \u001b[34mconst\u001b[39;49;00m \u001b[36mdouble\u001b[39;49;00m *parameters, \u001b[34mconst\u001b[39;49;00m \u001b[36mdouble\u001b[39;49;00m *constants, \u001b[36mdouble\u001b[39;49;00m *path_constraints);\r\n",
      "\r\n",
      "\u001b[34mtemplate\u001b[39;49;00m \u001b[36mvoid\u001b[39;49;00m OCP::finalCost<double_ad>(\u001b[36mdouble\u001b[39;49;00m initial_time, \u001b[36mdouble\u001b[39;49;00m final_time, \u001b[34mconst\u001b[39;49;00m double_ad *initial_state, \u001b[34mconst\u001b[39;49;00m double_ad *final_state, \u001b[34mconst\u001b[39;49;00m double_ad *parameters, \u001b[34mconst\u001b[39;49;00m \u001b[36mdouble\u001b[39;49;00m *constants, double_ad &final_cost);\r\n",
      "\u001b[34mtemplate\u001b[39;49;00m \u001b[36mvoid\u001b[39;49;00m OCP::dynamics<double_ad>(\u001b[36mdouble\u001b[39;49;00m time, \u001b[34mconst\u001b[39;49;00m double_ad *state, \u001b[34mconst\u001b[39;49;00m double_ad *control, \u001b[34mconst\u001b[39;49;00m double_ad *parameters, \u001b[34mconst\u001b[39;49;00m \u001b[36mdouble\u001b[39;49;00m *constants, double_ad *state_dynamics);\r\n",
      "\u001b[34mtemplate\u001b[39;49;00m \u001b[36mvoid\u001b[39;49;00m OCP::boundaryConditions<double_ad>(\u001b[36mdouble\u001b[39;49;00m initial_time, \u001b[36mdouble\u001b[39;49;00m final_time, \u001b[34mconst\u001b[39;49;00m double_ad *initial_state, \u001b[34mconst\u001b[39;49;00m double_ad *final_state, \u001b[34mconst\u001b[39;49;00m double_ad *parameters, \u001b[34mconst\u001b[39;49;00m \u001b[36mdouble\u001b[39;49;00m *constants, double_ad *boundary_conditions);\r\n",
      "\u001b[34mtemplate\u001b[39;49;00m \u001b[36mvoid\u001b[39;49;00m OCP::pathConstraints<double_ad>(\u001b[36mdouble\u001b[39;49;00m time, \u001b[34mconst\u001b[39;49;00m double_ad *state, \u001b[34mconst\u001b[39;49;00m double_ad *control, \u001b[34mconst\u001b[39;49;00m double_ad *parameters, \u001b[34mconst\u001b[39;49;00m \u001b[36mdouble\u001b[39;49;00m *constants, double_ad *path_constraints);\r\n"
     ]
    }
   ],
   "source": [
    "!pygmentize problem.cpp"
   ]
  },
  {
   "cell_type": "code",
   "execution_count": 1,
   "metadata": {},
   "outputs": [],
   "source": [
    "%matplotlib inline\n",
    "import bocop"
   ]
  },
  {
   "cell_type": "code",
   "execution_count": 2,
   "metadata": {},
   "outputs": [
    {
     "name": "stdout",
     "output_type": "stream",
     "text": [
      "[EXEC] > ['cmake -DCMAKE_BUILD_TYPE=Debug -DPROBLEM_DIR=/home/martinon/bocop/bocop3/bocop/examples/goddard -DCPP_FILE=problem.cpp -DCMAKE_CXX_COMPILER=g++ /home/martinon/bocop/bocop3/bocop']\n",
      ">\t-- The C compiler identification is GNU 9.3.0\n",
      ">\t-- The CXX compiler identification is GNU 9.3.0\n",
      ">\t-- Detecting C compiler ABI info\n",
      ">\t-- Detecting C compiler ABI info - done\n",
      ">\t-- Check for working C compiler: /home/martinon/miniconda3/envs/bocop-dev/bin/x86_64-conda-linux-gnu-cc - skipped\n",
      ">\t-- Detecting C compile features\n",
      ">\t-- Detecting C compile features - done\n",
      ">\t-- Detecting CXX compiler ABI info\n",
      ">\t-- Detecting CXX compiler ABI info - done\n",
      ">\t-- Check for working CXX compiler: /usr/bin/g++ - skipped\n",
      ">\t-- Detecting CXX compile features\n",
      ">\t-- Detecting CXX compile features - done\n",
      ">\t-- Problem path: /home/martinon/bocop/bocop3/bocop/examples/goddard\n",
      ">\t-- Using CPPAD found at /home/martinon/miniconda3/envs/bocop-dev/include/cppad/..\n",
      ">\t-- Using IPOPT found at /home/martinon/miniconda3/envs/bocop-dev/lib/libipopt.so\n",
      ">\t-- Found Python3: /home/martinon/miniconda3/envs/bocop-dev/bin/python3.7 (found version \"3.7.8\") found components: Interpreter Development Development.Module Development.Embed \n",
      ">\t-- Found SWIG: /home/martinon/miniconda3/envs/bocop-dev/bin/swig (found suitable version \"4.0.2\", minimum required is \"4\")  \n",
      ">\t-- Build type: Debug\n",
      ">\t-- Configuring done\n",
      ">\t-- Generating done\n",
      ">\t-- Build files have been written to: /home/martinon/bocop/bocop3/bocop/examples/goddard/build\n",
      "[DONE] > ['cmake -DCMAKE_BUILD_TYPE=Debug -DPROBLEM_DIR=/home/martinon/bocop/bocop3/bocop/examples/goddard -DCPP_FILE=problem.cpp -DCMAKE_CXX_COMPILER=g++ /home/martinon/bocop/bocop3/bocop']\n",
      "[EXEC] > make\n",
      ">\tScanning dependencies of target bocop\n",
      ">\t[  3%] Building CXX object src/CMakeFiles/bocop.dir/AD/dOCPCppAD.cpp.o\n",
      ">\t[  7%] Building CXX object src/CMakeFiles/bocop.dir/DOCP/dOCP.cpp.o\n",
      ">\t[ 10%] Building CXX object src/CMakeFiles/bocop.dir/DOCP/dODE.cpp.o\n",
      ">\t[ 14%] Building CXX object src/CMakeFiles/bocop.dir/DOCP/dControl.cpp.o\n",
      ">\t[ 17%] Building CXX object src/CMakeFiles/bocop.dir/DOCP/dState.cpp.o\n",
      ">\t[ 21%] Building CXX object src/CMakeFiles/bocop.dir/DOCP/solution.cpp.o\n",
      ">\t[ 25%] Building CXX object src/CMakeFiles/bocop.dir/NLP/NLPSolverIpopt.cpp.o\n",
      ">\t[ 28%] Building CXX object src/CMakeFiles/bocop.dir/OCP/OCP.cpp.o\n",
      ">\t[ 32%] Building CXX object src/CMakeFiles/bocop.dir/tools/tools.cpp.o\n",
      ">\t[ 35%] Building CXX object src/CMakeFiles/bocop.dir/tools/tools_interpolation.cpp.o\n",
      ">\t[ 39%] Building CXX object src/CMakeFiles/bocop.dir/__/__/problem.cpp.o\n",
      ">\t[ 42%] Linking CXX shared library ../../libbocop.so\n",
      ">\t[ 42%] Built target bocop\n",
      ">\tScanning dependencies of target bocopwrapper_swig_compilation\n",
      ">\t[ 46%] Swig compile /home/martinon/bocop/bocop3/bocop/src/bocopwrapper.i for python\n",
      ">\tLanguage subdirectory: python\n",
      ">\tSearch paths:\n",
      ">\t   ./\n",
      ">\t   /home/martinon/miniconda3/envs/bocop-dev/include/python3.7m/\n",
      ">\t   AD/\n",
      ">\t   DOCP/\n",
      ">\t   NLP/\n",
      ">\t   OCP/\n",
      ">\t   tools/\n",
      ">\t   /home/martinon/miniconda3/envs/bocop-dev/include/cppad/../\n",
      ">\t   /home/martinon/miniconda3/envs/bocop-dev/include/coin/\n",
      ">\t   /home/martinon/miniconda3/envs/bocop-dev/include/python3.7m/\n",
      ">\t   /home/martinon/bocop/bocop3/bocop/src/AD/\n",
      ">\t   /home/martinon/bocop/bocop3/bocop/src/DOCP/\n",
      ">\t   /home/martinon/bocop/bocop3/bocop/src/NLP/\n",
      ">\t   /home/martinon/bocop/bocop3/bocop/src/OCP/\n",
      ">\t   /home/martinon/bocop/bocop3/bocop/src/tools/\n",
      ">\t   ./swig_lib/python/\n",
      ">\t   /home/martinon/miniconda3/envs/bocop-dev/share/swig/4.0.2/python/\n",
      ">\t   ./swig_lib/\n",
      ">\t   /home/martinon/miniconda3/envs/bocop-dev/share/swig/4.0.2/\n",
      ">\tPreprocessing...\n",
      ">\tStarting language-specific parse...\n",
      ">\tProcessing types...\n",
      ">\tC++ analysis...\n",
      ">\tProcessing nested classes...\n",
      ">\tGenerating wrappers...\n",
      ">\t[ 46%] Built target bocopwrapper_swig_compilation\n",
      ">\tScanning dependencies of target bocopwrapper\n",
      ">\t[ 50%] Building CXX object src/CMakeFiles/bocopwrapper.dir/CMakeFiles/bocopwrapper.dir/bocopwrapperPYTHON_wrap.cxx.o\n",
      ">\t[ 53%] Linking CXX shared module ../../_bocopwrapper.so\n",
      ">\t-- Moving python modules to /home/martinon/bocop/bocop3/bocop/examples/goddard\n",
      ">\t[ 53%] Built target bocopwrapper\n",
      ">\tScanning dependencies of target bocopApp\n",
      ">\t[ 57%] Building CXX object src/CMakeFiles/bocopApp.dir/AD/dOCPCppAD.cpp.o\n",
      ">\t[ 60%] Building CXX object src/CMakeFiles/bocopApp.dir/DOCP/dOCP.cpp.o\n",
      ">\t[ 64%] Building CXX object src/CMakeFiles/bocopApp.dir/DOCP/dODE.cpp.o\n",
      ">\t[ 67%] Building CXX object src/CMakeFiles/bocopApp.dir/DOCP/dControl.cpp.o\n",
      ">\t[ 71%] Building CXX object src/CMakeFiles/bocopApp.dir/DOCP/dState.cpp.o\n",
      ">\t[ 75%] Building CXX object src/CMakeFiles/bocopApp.dir/DOCP/solution.cpp.o\n",
      ">\t[ 78%] Building CXX object src/CMakeFiles/bocopApp.dir/NLP/NLPSolverIpopt.cpp.o\n",
      ">\t[ 82%] Building CXX object src/CMakeFiles/bocopApp.dir/OCP/OCP.cpp.o\n",
      ">\t[ 85%] Building CXX object src/CMakeFiles/bocopApp.dir/tools/tools.cpp.o\n",
      ">\t[ 89%] Building CXX object src/CMakeFiles/bocopApp.dir/tools/tools_interpolation.cpp.o\n",
      ">\t[ 92%] Building CXX object src/CMakeFiles/bocopApp.dir/__/__/problem.cpp.o\n",
      ">\t[ 96%] Building CXX object src/CMakeFiles/bocopApp.dir/main.cpp.o\n",
      ">\t[100%] Linking CXX executable ../../bocopApp\n",
      ">\t[100%] Built target bocopApp\n",
      "[DONE] > make\n",
      "Done\n"
     ]
    },
    {
     "data": {
      "text/plain": [
       "0"
      ]
     },
     "execution_count": 2,
     "metadata": {},
     "output_type": "execute_result"
    }
   ],
   "source": [
    "# build problem in current folder\n",
    "bocop.build(cmake_options='-DCMAKE_CXX_COMPILER=g++')"
   ]
  },
  {
   "cell_type": "code",
   "execution_count": 3,
   "metadata": {},
   "outputs": [
    {
     "data": {
      "application/vnd.jupyter.widget-view+json": {
       "model_id": "c7dd459249f242989ad4bf53bae551ee",
       "version_major": 2,
       "version_minor": 0
      },
      "text/plain": [
       "interactive(children=(IntSlider(value=20, continuous_update=False, description='iteration', max=20), Output())…"
      ]
     },
     "metadata": {},
     "output_type": "display_data"
    },
    {
     "name": "stdout",
     "output_type": "stream",
     "text": [
      "Done\n"
     ]
    }
   ],
   "source": [
    "# execute with graphical display of iterations\n",
    "bocop.run(graph=1)"
   ]
  },
  {
   "cell_type": "code",
   "execution_count": 2,
   "metadata": {},
   "outputs": [
    {
     "name": "stdout",
     "output_type": "stream",
     "text": [
      "Loading solution:  problem.sol\n"
     ]
    },
    {
     "data": {
      "application/vnd.jupyter.widget-view+json": {
       "model_id": "7ef315cba9ad47538b469e4553bf56a3",
       "version_major": 2,
       "version_minor": 0
      },
      "text/plain": [
       "Canvas(toolbar=Toolbar(toolitems=[('Home', 'Reset original view', 'home', 'home'), ('Back', 'Back to previous …"
      ]
     },
     "metadata": {},
     "output_type": "display_data"
    },
    {
     "data": {
      "application/vnd.jupyter.widget-view+json": {
       "model_id": "f82898af85ca47d7b2d8f533152b73c2",
       "version_major": 2,
       "version_minor": 0
      },
      "text/plain": [
       "VBox(children=(FloatSlider(value=0.24999999993080474, continuous_update=False, description='Threshold:', layou…"
      ]
     },
     "metadata": {},
     "output_type": "display_data"
    }
   ],
   "source": [
    "%matplotlib widget\n",
    "import matplotlib.pyplot as plt\n",
    "\n",
    "solution = bocop.readSolution()\n",
    "bocop.low_diagnose(solution)    "
   ]
  },
  {
   "cell_type": "code",
   "execution_count": 3,
   "metadata": {
    "scrolled": true
   },
   "outputs": [
    {
     "name": "stdout",
     "output_type": "stream",
     "text": [
      "Bocop returns status 0 with objective -0.6298 and constraint violation 2.185e-13\n",
      "Costate at first time stage (t0+h/2):  [53.0586254065787, 1.81248579905455, 0.689123980123291]\n",
      "Multipliers for initial conditions:  [53.06865501  1.90672564  0.67678818]\n"
     ]
    }
   ],
   "source": [
    "print(\"Bocop returns status {} with objective {:2.4g} and constraint violation {:2.4g}\".format(solution.status,solution.objective,solution.constraints))\n",
    "p0 = []\n",
    "for i in range(solution.dim_state):\n",
    "    p0.append(solution.costate[i][0])\n",
    "print(\"Costate at first time stage (t0+h/2): \",p0)\n",
    "print(\"Multipliers for initial conditions: \",solution.boundarycond_multipliers[0:solution.dim_state])"
   ]
  },
  {
   "cell_type": "code",
   "execution_count": null,
   "metadata": {},
   "outputs": [],
   "source": []
  }
 ],
 "metadata": {
  "kernelspec": {
   "display_name": "Python 3",
   "language": "python",
   "name": "python3"
  },
  "language_info": {
   "codemirror_mode": {
    "name": "ipython",
    "version": 3
   },
   "file_extension": ".py",
   "mimetype": "text/x-python",
   "name": "python",
   "nbconvert_exporter": "python",
   "pygments_lexer": "ipython3",
   "version": "3.7.8"
  }
 },
 "nbformat": 4,
 "nbformat_minor": 4
}
